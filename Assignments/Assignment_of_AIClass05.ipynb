{
  "nbformat": 4,
  "nbformat_minor": 0,
  "metadata": {
    "colab": {
      "provenance": []
    },
    "kernelspec": {
      "name": "python3",
      "display_name": "Python 3"
    },
    "language_info": {
      "name": "python"
    }
  },
  "cells": [
    {
      "cell_type": "code",
      "source": [
        "# Assignment - Create a calculator (+ - * /) with using return function\n",
        "\n",
        "# Define functions with return\n",
        "def add(a, b):\n",
        "    return a + b\n",
        "\n",
        "def subtract(a, b):\n",
        "    return a - b\n",
        "\n",
        "def multiply(a, b):\n",
        "    return a * b\n",
        "\n",
        "def divide(a, b):\n",
        "    if b == 0:\n",
        "        return \"Error! Division by zero.\"\n",
        "    return a / b\n",
        "\n",
        "def calculator():\n",
        "    while True:  # loop until user quits\n",
        "        print(\"\\n--- TJ's Simple Calculator ---\")\n",
        "        print(\"Enter 'q' at any time to quit.\")\n",
        "\n",
        "        first_input = input(\"Enter first number: \")\n",
        "        if first_input.lower() == 'q':\n",
        "            print(\"Exiting Calculator. Goodbye!\")\n",
        "            break\n",
        "\n",
        "        operator = input(\"Enter operator (+, -, *, /): \")\n",
        "        if operator.lower() == 'q':\n",
        "            print(\"Exiting Calculator. Goodbye!\")\n",
        "            break\n",
        "\n",
        "        second_input = input(\"Enter second number: \")\n",
        "        if second_input.lower() == 'q':\n",
        "            print(\"Exiting Calculator. Goodbye!\")\n",
        "            break\n",
        "\n",
        "        # Convert inputs to float\n",
        "        num1 = float(first_input)\n",
        "        num2 = float(second_input)\n",
        "\n",
        "        # Perform calculation\n",
        "        if operator == '+':\n",
        "            result = add(num1, num2)\n",
        "        elif operator == '-':\n",
        "            result = subtract(num1, num2)\n",
        "        elif operator == '*':\n",
        "            result = multiply(num1, num2)\n",
        "        elif operator == '/':\n",
        "            result = divide(num1, num2)\n",
        "        else:\n",
        "            result = \"Invalid operator!\"\n",
        "\n",
        "        print(\"Result:\", result)\n",
        "\n",
        "# Run calculator\n",
        "calculator()"
      ],
      "metadata": {
        "colab": {
          "base_uri": "https://localhost:8080/"
        },
        "id": "MpZuLv5pcu1p",
        "outputId": "93092e25-0335-430d-a50c-7b705d8db080"
      },
      "execution_count": 33,
      "outputs": [
        {
          "output_type": "stream",
          "name": "stdout",
          "text": [
            "\n",
            "--- Tj's Simple Calculator ---\n",
            "Enter 'q' at any time to quit.\n",
            "Enter first number: q\n",
            "Exiting Calculator. Goodbye!\n"
          ]
        }
      ]
    }
  ]
}